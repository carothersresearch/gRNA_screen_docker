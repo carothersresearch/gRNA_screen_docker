{
 "cells": [
  {
   "cell_type": "code",
   "execution_count": 1,
   "metadata": {},
   "outputs": [],
   "source": [
    "from Bio.Seq import Seq\n",
    "import pandas as pd"
   ]
  },
  {
   "cell_type": "code",
   "execution_count": 2,
   "metadata": {},
   "outputs": [],
   "source": [
    "seq_2_screen_file = 'seq_2_screen/example_seq_2_screen.csv'  # path/name of csv containning sequences in which to look for PAMs\n",
    "PAM_NGG = ['AGG', 'TGG', 'CGG', 'GGG', ] # PAMs to look for\n",
    "seq_2_screen = pd.read_csv(seq_2_screen_file)"
   ]
  },
  {
   "cell_type": "code",
   "execution_count": 3,
   "metadata": {},
   "outputs": [],
   "source": [
    "output_file = 'gRNAs_2_screen/example_gRNA_2_screen.csv' # path/name of csv output file with gRNAs to be screened with Wayfinder\n",
    "all_but_spacer_gRNA = 'GTTTTAGAGCTAGAAATAGCAAGTTAAAATAAGGCTAGTCCGTTATCAACTTGAAAAAGTGGCACCGAGTCGGTGCTTTTTTT' # change between sgRNA or scRNA\n",
    "Spacer_Length = 20"
   ]
  },
  {
   "cell_type": "code",
   "execution_count": 4,
   "metadata": {},
   "outputs": [],
   "source": [
    "def find_PAM_bottom(ORF, Locus_tag, PAM = ['AGG', 'TGG', 'CGG', 'GGG']):\n",
    "\n",
    "    \"\"\"Receive ORF as Seq and PAM as a set of compatible PAMs\"\"\"\n",
    "    \n",
    "    if type(ORF) == str:   #convert string to Seq\n",
    "        ORF = Seq(ORF)\n",
    "    else:\n",
    "        pass\n",
    "    \n",
    "    ORF = ORF.upper()\n",
    "    \n",
    "    PAM_rev = []\n",
    "\n",
    "    PAM_pos = []\n",
    "    PAM_seq = []\n",
    "    PAM_strand = []\n",
    "    PAM_3nt = []\n",
    "    Name = []\n",
    "\n",
    "    for pam in PAM:\n",
    "        PAM_rev.append(str(Seq(pam).reverse_complement()))\n",
    "\n",
    "    for i in range(len(ORF)-20):\n",
    "        if ORF[i:i+3] in PAM_rev:\n",
    "            position = i+3\n",
    "            spacer = str(ORF[i+3:i+23].reverse_complement())\n",
    "            #print(position, spacer)\n",
    "\n",
    "            PAM_pos.append(position)\n",
    "            PAM_seq.append(spacer)\n",
    "            PAM_strand.append(-1)\n",
    "            PAM_3nt.append(str(ORF[i:i+3].reverse_complement()))\n",
    "            Name.append(Locus_tag)\n",
    "            \n",
    "#        elif ORF[i:i+3] in PAM_rev:\n",
    "#            position = i+3\n",
    "#            spacer = str(ORF[i+3:i+3+20].reverse_complement())\n",
    "#            #print(position, spacer)\n",
    "\n",
    "#            PAM_pos.append(position)\n",
    "#            PAM_seq.append(spacer)\n",
    "#            PAM_strand.append(1)\n",
    "\n",
    "    df_PAM = pd.DataFrame({'Locus_tag': Name, 'Position': PAM_pos, 'Spacer': PAM_seq, 'PAM': PAM_3nt, 'Strand': PAM_strand})\n",
    "    \n",
    "    return(df_PAM)"
   ]
  },
  {
   "cell_type": "code",
   "execution_count": 5,
   "metadata": {},
   "outputs": [],
   "source": [
    "# looking for spacers -- CK\n",
    "output = {}\n",
    "for index, row in seq_2_screen.iterrows():\n",
    "    output[row['Locus_tag']] = find_PAM_bottom(row['ORF'], row['Locus_tag'], PAM = PAM_NGG)\n",
    "\n",
    "df_target = pd.DataFrame({'Locus_tag': [], 'Position': [], 'Spacer': [], 'PAM': [], 'Strand': []})\n",
    "for gene in output:\n",
    "    df_target_temp = output[gene]\n",
    "    df_target = df_target.append(df_target_temp)"
   ]
  },
  {
   "cell_type": "code",
   "execution_count": 6,
   "metadata": {},
   "outputs": [],
   "source": [
    "# making sure to put the spacers in the same format as Wayfinder -- RC\n",
    "\n",
    "input_4_wayfinder = pd.DataFrame(columns=['Unique_Name', 'Spacer_Length', 'Spacer_Position','Raw_Fluorescence_1','Raw_Fluorescence_2','Raw_Fluorescence_3','Avg_Fluorescence','Date','Sequence','upstream'])\n",
    "\n",
    "c = 1\n",
    "for target in df_target.iterrows():\n",
    "    row = {'Unique_Name':target[1]['Locus_tag']+'__'+str(target[1]['Position']), 'Spacer_Length':Spacer_Length,'Spacer_Position':6,'Sequence':target[1]['Spacer']+all_but_spacer_gRNA, 'upstream':0}\n",
    "    input_4_wayfinder = input_4_wayfinder.append(row, ignore_index = True)\n",
    "    c+=1\n",
    "\n",
    "input_4_wayfinder.to_csv(output_file, index = False)"
   ]
  },
  {
   "cell_type": "code",
   "execution_count": null,
   "metadata": {},
   "outputs": [],
   "source": []
  }
 ],
 "metadata": {
  "kernelspec": {
   "display_name": "Python 2",
   "language": "python",
   "name": "python2"
  },
  "language_info": {
   "codemirror_mode": {
    "name": "ipython",
    "version": 2
   },
   "file_extension": ".py",
   "mimetype": "text/x-python",
   "name": "python",
   "nbconvert_exporter": "python",
   "pygments_lexer": "ipython2",
   "version": "2.7.18"
  }
 },
 "nbformat": 4,
 "nbformat_minor": 4
}
